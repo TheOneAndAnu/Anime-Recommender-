{
 "cells": [
  {
   "cell_type": "markdown",
   "id": "0966020f",
   "metadata": {
    "papermill": {
     "duration": 0.021577,
     "end_time": "2021-10-15T13:00:42.553720",
     "exception": false,
     "start_time": "2021-10-15T13:00:42.532143",
     "status": "completed"
    },
    "tags": []
   },
   "source": [
    "## Installing Dependencies"
   ]
  },
  {
   "cell_type": "code",
   "execution_count": 1,
   "id": "45ba1e29",
   "metadata": {
    "execution": {
     "iopub.execute_input": "2021-10-15T13:00:42.598451Z",
     "iopub.status.busy": "2021-10-15T13:00:42.597003Z",
     "iopub.status.idle": "2021-10-15T13:00:51.092029Z",
     "shell.execute_reply": "2021-10-15T13:00:51.091383Z",
     "shell.execute_reply.started": "2021-10-15T12:47:18.990693Z"
    },
    "papermill": {
     "duration": 8.518204,
     "end_time": "2021-10-15T13:00:51.092197",
     "exception": false,
     "start_time": "2021-10-15T13:00:42.573993",
     "status": "completed"
    },
    "scrolled": true,
    "tags": []
   },
   "outputs": [
    {
     "name": "stdout",
     "output_type": "stream",
     "text": [
      "Collecting surprise\n",
      "  Using cached surprise-0.1-py2.py3-none-any.whl (1.8 kB)\n",
      "Collecting scikit-surprise\n",
      "  Using cached scikit-surprise-1.1.1.tar.gz (11.8 MB)\n",
      "Requirement already satisfied: joblib>=0.11 in f:\\anubhuti\\anaconda3\\lib\\site-packages (from scikit-surprise->surprise) (1.0.1)\n",
      "Requirement already satisfied: numpy>=1.11.2 in f:\\anubhuti\\anaconda3\\lib\\site-packages (from scikit-surprise->surprise) (1.20.1)\n",
      "Requirement already satisfied: scipy>=1.0.0 in f:\\anubhuti\\anaconda3\\lib\\site-packages (from scikit-surprise->surprise) (1.6.2)\n",
      "Requirement already satisfied: six>=1.10.0 in f:\\anubhuti\\anaconda3\\lib\\site-packages (from scikit-surprise->surprise) (1.15.0)\n",
      "Building wheels for collected packages: scikit-surprise\n",
      "  Building wheel for scikit-surprise (setup.py): started\n",
      "  Building wheel for scikit-surprise (setup.py): finished with status 'error'\n",
      "  Running setup.py clean for scikit-surprise\n",
      "Failed to build scikit-surprise\n",
      "Installing collected packages: scikit-surprise, surprise\n",
      "    Running setup.py install for scikit-surprise: startedNote: you may need to restart the kernel to use updated packages.\n"
     ]
    },
    {
     "name": "stderr",
     "output_type": "stream",
     "text": [
      "  ERROR: Command errored out with exit status 1:\n",
      "   command: 'F:\\ANUBHUTI\\anaconda3\\python.exe' -u -c 'import sys, setuptools, tokenize; sys.argv[0] = '\"'\"'C:\\\\Users\\\\ANUBHUTI\\\\AppData\\\\Local\\\\Temp\\\\pip-install-w_f7vsk8\\\\scikit-surprise_cf65bcdec9654cdba7cc20802f31d47d\\\\setup.py'\"'\"'; __file__='\"'\"'C:\\\\Users\\\\ANUBHUTI\\\\AppData\\\\Local\\\\Temp\\\\pip-install-w_f7vsk8\\\\scikit-surprise_cf65bcdec9654cdba7cc20802f31d47d\\\\setup.py'\"'\"';f=getattr(tokenize, '\"'\"'open'\"'\"', open)(__file__);code=f.read().replace('\"'\"'\\r\\n'\"'\"', '\"'\"'\\n'\"'\"');f.close();exec(compile(code, __file__, '\"'\"'exec'\"'\"'))' bdist_wheel -d 'C:\\Users\\ANUBHUTI\\AppData\\Local\\Temp\\pip-wheel-7uu93gru'\n",
      "       cwd: C:\\Users\\ANUBHUTI\\AppData\\Local\\Temp\\pip-install-w_f7vsk8\\scikit-surprise_cf65bcdec9654cdba7cc20802f31d47d\\\n",
      "  Complete output (49 lines):\n",
      "  running bdist_wheel\n",
      "  running build\n",
      "  running build_py\n",
      "  creating build\n",
      "  creating build\\lib.win-amd64-3.8\n",
      "  creating build\\lib.win-amd64-3.8\\surprise\n",
      "  copying surprise\\accuracy.py -> build\\lib.win-amd64-3.8\\surprise\n",
      "  copying surprise\\builtin_datasets.py -> build\\lib.win-amd64-3.8\\surprise\n",
      "  copying surprise\\dataset.py -> build\\lib.win-amd64-3.8\\surprise\n",
      "  copying surprise\\dump.py -> build\\lib.win-amd64-3.8\\surprise\n",
      "  copying surprise\\reader.py -> build\\lib.win-amd64-3.8\\surprise\n",
      "  copying surprise\\trainset.py -> build\\lib.win-amd64-3.8\\surprise\n",
      "  copying surprise\\utils.py -> build\\lib.win-amd64-3.8\\surprise\n",
      "  copying surprise\\__init__.py -> build\\lib.win-amd64-3.8\\surprise\n",
      "  copying surprise\\__main__.py -> build\\lib.win-amd64-3.8\\surprise\n",
      "  creating build\\lib.win-amd64-3.8\\surprise\\model_selection\n",
      "  copying surprise\\model_selection\\search.py -> build\\lib.win-amd64-3.8\\surprise\\model_selection\n",
      "  copying surprise\\model_selection\\split.py -> build\\lib.win-amd64-3.8\\surprise\\model_selection"
     ]
    },
    {
     "name": "stdout",
     "output_type": "stream",
     "text": [
      "\n",
      "    Running setup.py install for scikit-surprise: finished with status 'error'\n"
     ]
    },
    {
     "name": "stderr",
     "output_type": "stream",
     "text": [
      "\n",
      "  copying surprise\\model_selection\\validation.py -> build\\lib.win-amd64-3.8\\surprise\\model_selection\n",
      "  copying surprise\\model_selection\\__init__.py -> build\\lib.win-amd64-3.8\\surprise\\model_selection\n",
      "  creating build\\lib.win-amd64-3.8\\surprise\\prediction_algorithms\n",
      "  copying surprise\\prediction_algorithms\\algo_base.py -> build\\lib.win-amd64-3.8\\surprise\\prediction_algorithms\n",
      "  copying surprise\\prediction_algorithms\\baseline_only.py -> build\\lib.win-amd64-3.8\\surprise\\prediction_algorithms\n",
      "  copying surprise\\prediction_algorithms\\knns.py -> build\\lib.win-amd64-3.8\\surprise\\prediction_algorithms\n",
      "  copying surprise\\prediction_algorithms\\predictions.py -> build\\lib.win-amd64-3.8\\surprise\\prediction_algorithms\n",
      "  copying surprise\\prediction_algorithms\\random_pred.py -> build\\lib.win-amd64-3.8\\surprise\\prediction_algorithms\n",
      "  copying surprise\\prediction_algorithms\\__init__.py -> build\\lib.win-amd64-3.8\\surprise\\prediction_algorithms\n",
      "  running egg_info\n",
      "  writing scikit_surprise.egg-info\\PKG-INFO\n",
      "  writing dependency_links to scikit_surprise.egg-info\\dependency_links.txt\n",
      "  writing entry points to scikit_surprise.egg-info\\entry_points.txt\n",
      "  writing requirements to scikit_surprise.egg-info\\requires.txt\n",
      "  writing top-level names to scikit_surprise.egg-info\\top_level.txt\n",
      "  reading manifest file 'scikit_surprise.egg-info\\SOURCES.txt'\n",
      "  reading manifest template 'MANIFEST.in'\n",
      "  writing manifest file 'scikit_surprise.egg-info\\SOURCES.txt'\n",
      "  copying surprise\\similarities.c -> build\\lib.win-amd64-3.8\\surprise\n",
      "  copying surprise\\similarities.pyx -> build\\lib.win-amd64-3.8\\surprise\n",
      "  copying surprise\\prediction_algorithms\\co_clustering.c -> build\\lib.win-amd64-3.8\\surprise\\prediction_algorithms\n",
      "  copying surprise\\prediction_algorithms\\matrix_factorization.c -> build\\lib.win-amd64-3.8\\surprise\\prediction_algorithms\n",
      "  copying surprise\\prediction_algorithms\\optimize_baselines.c -> build\\lib.win-amd64-3.8\\surprise\\prediction_algorithms\n",
      "  copying surprise\\prediction_algorithms\\slope_one.c -> build\\lib.win-amd64-3.8\\surprise\\prediction_algorithms\n",
      "  copying surprise\\prediction_algorithms\\co_clustering.pyx -> build\\lib.win-amd64-3.8\\surprise\\prediction_algorithms\n",
      "  copying surprise\\prediction_algorithms\\matrix_factorization.pyx -> build\\lib.win-amd64-3.8\\surprise\\prediction_algorithms\n",
      "  copying surprise\\prediction_algorithms\\optimize_baselines.pyx -> build\\lib.win-amd64-3.8\\surprise\\prediction_algorithms\n",
      "  copying surprise\\prediction_algorithms\\slope_one.pyx -> build\\lib.win-amd64-3.8\\surprise\\prediction_algorithms\n",
      "  running build_ext\n",
      "  building 'surprise.similarities' extension\n",
      "  error: Microsoft Visual C++ 14.0 or greater is required. Get it with \"Microsoft C++ Build Tools\": https://visualstudio.microsoft.com/visual-cpp-build-tools/\n",
      "  ----------------------------------------\n",
      "  ERROR: Failed building wheel for scikit-surprise\n",
      "    ERROR: Command errored out with exit status 1:\n",
      "     command: 'F:\\ANUBHUTI\\anaconda3\\python.exe' -u -c 'import sys, setuptools, tokenize; sys.argv[0] = '\"'\"'C:\\\\Users\\\\ANUBHUTI\\\\AppData\\\\Local\\\\Temp\\\\pip-install-w_f7vsk8\\\\scikit-surprise_cf65bcdec9654cdba7cc20802f31d47d\\\\setup.py'\"'\"'; __file__='\"'\"'C:\\\\Users\\\\ANUBHUTI\\\\AppData\\\\Local\\\\Temp\\\\pip-install-w_f7vsk8\\\\scikit-surprise_cf65bcdec9654cdba7cc20802f31d47d\\\\setup.py'\"'\"';f=getattr(tokenize, '\"'\"'open'\"'\"', open)(__file__);code=f.read().replace('\"'\"'\\r\\n'\"'\"', '\"'\"'\\n'\"'\"');f.close();exec(compile(code, __file__, '\"'\"'exec'\"'\"'))' install --record 'C:\\Users\\ANUBHUTI\\AppData\\Local\\Temp\\pip-record-65yvkjj2\\install-record.txt' --single-version-externally-managed --compile --install-headers 'F:\\ANUBHUTI\\anaconda3\\Include\\scikit-surprise'\n",
      "         cwd: C:\\Users\\ANUBHUTI\\AppData\\Local\\Temp\\pip-install-w_f7vsk8\\scikit-surprise_cf65bcdec9654cdba7cc20802f31d47d\\\n",
      "    Complete output (49 lines):\n",
      "    running install\n",
      "    running build\n",
      "    running build_py\n",
      "    creating build\n",
      "    creating build\\lib.win-amd64-3.8\n",
      "    creating build\\lib.win-amd64-3.8\\surprise\n",
      "    copying surprise\\accuracy.py -> build\\lib.win-amd64-3.8\\surprise\n",
      "    copying surprise\\builtin_datasets.py -> build\\lib.win-amd64-3.8\\surprise\n",
      "    copying surprise\\dataset.py -> build\\lib.win-amd64-3.8\\surprise\n",
      "    copying surprise\\dump.py -> build\\lib.win-amd64-3.8\\surprise\n",
      "    copying surprise\\reader.py -> build\\lib.win-amd64-3.8\\surprise\n",
      "    copying surprise\\trainset.py -> build\\lib.win-amd64-3.8\\surprise\n",
      "    copying surprise\\utils.py -> build\\lib.win-amd64-3.8\\surprise\n",
      "    copying surprise\\__init__.py -> build\\lib.win-amd64-3.8\\surprise\n",
      "    copying surprise\\__main__.py -> build\\lib.win-amd64-3.8\\surprise\n",
      "    creating build\\lib.win-amd64-3.8\\surprise\\model_selection\n",
      "    copying surprise\\model_selection\\search.py -> build\\lib.win-amd64-3.8\\surprise\\model_selection\n",
      "    copying surprise\\model_selection\\split.py -> build\\lib.win-amd64-3.8\\surprise\\model_selection\n",
      "    copying surprise\\model_selection\\validation.py -> build\\lib.win-amd64-3.8\\surprise\\model_selection\n",
      "    copying surprise\\model_selection\\__init__.py -> build\\lib.win-amd64-3.8\\surprise\\model_selection\n",
      "    creating build\\lib.win-amd64-3.8\\surprise\\prediction_algorithms\n",
      "    copying surprise\\prediction_algorithms\\algo_base.py -> build\\lib.win-amd64-3.8\\surprise\\prediction_algorithms\n",
      "    copying surprise\\prediction_algorithms\\baseline_only.py -> build\\lib.win-amd64-3.8\\surprise\\prediction_algorithms\n",
      "    copying surprise\\prediction_algorithms\\knns.py -> build\\lib.win-amd64-3.8\\surprise\\prediction_algorithms\n",
      "    copying surprise\\prediction_algorithms\\predictions.py -> build\\lib.win-amd64-3.8\\surprise\\prediction_algorithms\n",
      "    copying surprise\\prediction_algorithms\\random_pred.py -> build\\lib.win-amd64-3.8\\surprise\\prediction_algorithms\n",
      "    copying surprise\\prediction_algorithms\\__init__.py -> build\\lib.win-amd64-3.8\\surprise\\prediction_algorithms\n",
      "    running egg_info\n"
     ]
    }
   ],
   "source": [
    "pip install surprise"
   ]
  },
  {
   "cell_type": "markdown",
   "id": "e511ff03",
   "metadata": {
    "papermill": {
     "duration": 0.022164,
     "end_time": "2021-10-15T13:00:51.136409",
     "exception": false,
     "start_time": "2021-10-15T13:00:51.114245",
     "status": "completed"
    },
    "tags": []
   },
   "source": [
    "## Importing Libraries"
   ]
  },
  {
   "cell_type": "code",
   "execution_count": 2,
   "id": "19f2238a",
   "metadata": {
    "_cell_guid": "b1076dfc-b9ad-4769-8c92-a6c4dae69d19",
    "_uuid": "8f2839f25d086af736a60e9eeb907d3b93b6e0e5",
    "execution": {
     "iopub.execute_input": "2021-10-15T13:00:51.188089Z",
     "iopub.status.busy": "2021-10-15T13:00:51.187499Z",
     "iopub.status.idle": "2021-10-15T13:00:52.003226Z",
     "shell.execute_reply": "2021-10-15T13:00:52.002649Z",
     "shell.execute_reply.started": "2021-10-15T12:47:27.824922Z"
    },
    "papermill": {
     "duration": 0.845736,
     "end_time": "2021-10-15T13:00:52.003378",
     "exception": false,
     "start_time": "2021-10-15T13:00:51.157642",
     "status": "completed"
    },
    "tags": []
   },
   "outputs": [
    {
     "name": "stderr",
     "output_type": "stream",
     "text": [
      "    writing scikit_surprise.egg-info\\PKG-INFO\n",
      "    writing dependency_links to scikit_surprise.egg-info\\dependency_links.txt\n",
      "    writing entry points to scikit_surprise.egg-info\\entry_points.txt\n",
      "    writing requirements to scikit_surprise.egg-info\\requires.txt\n",
      "    writing top-level names to scikit_surprise.egg-info\\top_level.txt\n",
      "    reading manifest file 'scikit_surprise.egg-info\\SOURCES.txt'\n",
      "    reading manifest template 'MANIFEST.in'\n",
      "    writing manifest file 'scikit_surprise.egg-info\\SOURCES.txt'\n",
      "    copying surprise\\similarities.c -> build\\lib.win-amd64-3.8\\surprise\n",
      "    copying surprise\\similarities.pyx -> build\\lib.win-amd64-3.8\\surprise\n",
      "    copying surprise\\prediction_algorithms\\co_clustering.c -> build\\lib.win-amd64-3.8\\surprise\\prediction_algorithms\n",
      "    copying surprise\\prediction_algorithms\\matrix_factorization.c -> build\\lib.win-amd64-3.8\\surprise\\prediction_algorithms\n",
      "    copying surprise\\prediction_algorithms\\optimize_baselines.c -> build\\lib.win-amd64-3.8\\surprise\\prediction_algorithms\n",
      "    copying surprise\\prediction_algorithms\\slope_one.c -> build\\lib.win-amd64-3.8\\surprise\\prediction_algorithms\n",
      "    copying surprise\\prediction_algorithms\\co_clustering.pyx -> build\\lib.win-amd64-3.8\\surprise\\prediction_algorithms\n",
      "    copying surprise\\prediction_algorithms\\matrix_factorization.pyx -> build\\lib.win-amd64-3.8\\surprise\\prediction_algorithms\n",
      "    copying surprise\\prediction_algorithms\\optimize_baselines.pyx -> build\\lib.win-amd64-3.8\\surprise\\prediction_algorithms\n",
      "    copying surprise\\prediction_algorithms\\slope_one.pyx -> build\\lib.win-amd64-3.8\\surprise\\prediction_algorithms\n",
      "    running build_ext\n",
      "    building 'surprise.similarities' extension\n",
      "    error: Microsoft Visual C++ 14.0 or greater is required. Get it with \"Microsoft C++ Build Tools\": https://visualstudio.microsoft.com/visual-cpp-build-tools/\n",
      "    ----------------------------------------\n",
      "ERROR: Command errored out with exit status 1: 'F:\\ANUBHUTI\\anaconda3\\python.exe' -u -c 'import sys, setuptools, tokenize; sys.argv[0] = '\"'\"'C:\\\\Users\\\\ANUBHUTI\\\\AppData\\\\Local\\\\Temp\\\\pip-install-w_f7vsk8\\\\scikit-surprise_cf65bcdec9654cdba7cc20802f31d47d\\\\setup.py'\"'\"'; __file__='\"'\"'C:\\\\Users\\\\ANUBHUTI\\\\AppData\\\\Local\\\\Temp\\\\pip-install-w_f7vsk8\\\\scikit-surprise_cf65bcdec9654cdba7cc20802f31d47d\\\\setup.py'\"'\"';f=getattr(tokenize, '\"'\"'open'\"'\"', open)(__file__);code=f.read().replace('\"'\"'\\r\\n'\"'\"', '\"'\"'\\n'\"'\"');f.close();exec(compile(code, __file__, '\"'\"'exec'\"'\"'))' install --record 'C:\\Users\\ANUBHUTI\\AppData\\Local\\Temp\\pip-record-65yvkjj2\\install-record.txt' --single-version-externally-managed --compile --install-headers 'F:\\ANUBHUTI\\anaconda3\\Include\\scikit-surprise' Check the logs for full command output.\n"
     ]
    },
    {
     "ename": "ModuleNotFoundError",
     "evalue": "No module named 'surprise'",
     "output_type": "error",
     "traceback": [
      "\u001b[1;31m---------------------------------------------------------------------------\u001b[0m",
      "\u001b[1;31mModuleNotFoundError\u001b[0m                       Traceback (most recent call last)",
      "\u001b[1;32m<ipython-input-2-3ce37f2987bf>\u001b[0m in \u001b[0;36m<module>\u001b[1;34m\u001b[0m\n\u001b[0;32m      6\u001b[0m \u001b[1;32mfrom\u001b[0m \u001b[0msklearn\u001b[0m\u001b[1;33m.\u001b[0m\u001b[0mfeature_extraction\u001b[0m\u001b[1;33m.\u001b[0m\u001b[0mtext\u001b[0m \u001b[1;32mimport\u001b[0m \u001b[0mTfidfVectorizer\u001b[0m\u001b[1;33m,\u001b[0m \u001b[0mCountVectorizer\u001b[0m\u001b[1;33m\u001b[0m\u001b[1;33m\u001b[0m\u001b[0m\n\u001b[0;32m      7\u001b[0m \u001b[1;32mfrom\u001b[0m \u001b[0msklearn\u001b[0m\u001b[1;33m.\u001b[0m\u001b[0mmetrics\u001b[0m\u001b[1;33m.\u001b[0m\u001b[0mpairwise\u001b[0m \u001b[1;32mimport\u001b[0m \u001b[0mlinear_kernel\u001b[0m\u001b[1;33m,\u001b[0m \u001b[0mcosine_similarity\u001b[0m\u001b[1;33m\u001b[0m\u001b[1;33m\u001b[0m\u001b[0m\n\u001b[1;32m----> 8\u001b[1;33m \u001b[1;32mfrom\u001b[0m \u001b[0msurprise\u001b[0m \u001b[1;32mimport\u001b[0m \u001b[0mReader\u001b[0m\u001b[1;33m,\u001b[0m \u001b[0mDataset\u001b[0m\u001b[1;33m,\u001b[0m \u001b[0mSVD\u001b[0m\u001b[1;33m\u001b[0m\u001b[1;33m\u001b[0m\u001b[0m\n\u001b[0m\u001b[0;32m      9\u001b[0m \u001b[1;32mfrom\u001b[0m \u001b[0msurprise\u001b[0m\u001b[1;33m.\u001b[0m\u001b[0mmodel_selection\u001b[0m \u001b[1;32mimport\u001b[0m \u001b[0mcross_validate\u001b[0m\u001b[1;33m\u001b[0m\u001b[1;33m\u001b[0m\u001b[0m\n\u001b[0;32m     10\u001b[0m \u001b[1;33m\u001b[0m\u001b[0m\n",
      "\u001b[1;31mModuleNotFoundError\u001b[0m: No module named 'surprise'"
     ]
    }
   ],
   "source": [
    "%matplotlib inline\n",
    "import pandas as pd\n",
    "import numpy as np\n",
    "import matplotlib.pyplot as plt\n",
    "from scipy.sparse import csr_matrix\n",
    "from sklearn.feature_extraction.text import TfidfVectorizer, CountVectorizer\n",
    "from sklearn.metrics.pairwise import linear_kernel, cosine_similarity\n",
    "from surprise import Reader, Dataset, SVD\n",
    "from surprise.model_selection import cross_validate\n",
    "\n",
    "import warnings; warnings.simplefilter('ignore')"
   ]
  },
  {
   "cell_type": "code",
   "execution_count": null,
   "id": "4df33289",
   "metadata": {
    "execution": {
     "iopub.execute_input": "2021-10-15T13:00:52.051548Z",
     "iopub.status.busy": "2021-10-15T13:00:52.050915Z",
     "iopub.status.idle": "2021-10-15T13:00:55.104663Z",
     "shell.execute_reply": "2021-10-15T13:00:55.103738Z",
     "shell.execute_reply.started": "2021-10-15T12:47:28.589086Z"
    },
    "papermill": {
     "duration": 3.079572,
     "end_time": "2021-10-15T13:00:55.104803",
     "exception": false,
     "start_time": "2021-10-15T13:00:52.025231",
     "status": "completed"
    },
    "tags": []
   },
   "outputs": [],
   "source": [
    "anime_info_df = pd.read_csv('datset/anime.csv')\n",
    "anime_desc_df = pd.read_csv('dataset/anime_with_synopsis.csv')\n",
    "rating_df = pd.read_csv('dataset/rating.csv')"
   ]
  },
  {
   "cell_type": "code",
   "execution_count": null,
   "id": "eec23cac",
   "metadata": {
    "execution": {
     "iopub.execute_input": "2021-10-15T13:00:55.162168Z",
     "iopub.status.busy": "2021-10-15T13:00:55.161280Z",
     "iopub.status.idle": "2021-10-15T13:00:55.186141Z",
     "shell.execute_reply": "2021-10-15T13:00:55.186545Z",
     "shell.execute_reply.started": "2021-10-15T12:47:31.679477Z"
    },
    "papermill": {
     "duration": 0.060641,
     "end_time": "2021-10-15T13:00:55.186684",
     "exception": false,
     "start_time": "2021-10-15T13:00:55.126043",
     "status": "completed"
    },
    "tags": []
   },
   "outputs": [],
   "source": [
    "anime_info_df.head(5)"
   ]
  },
  {
   "cell_type": "code",
   "execution_count": null,
   "id": "2c04f965",
   "metadata": {
    "execution": {
     "iopub.execute_input": "2021-10-15T13:00:55.239678Z",
     "iopub.status.busy": "2021-10-15T13:00:55.237051Z",
     "iopub.status.idle": "2021-10-15T13:00:55.263608Z",
     "shell.execute_reply": "2021-10-15T13:00:55.264056Z",
     "shell.execute_reply.started": "2021-10-15T12:47:31.719916Z"
    },
    "papermill": {
     "duration": 0.055827,
     "end_time": "2021-10-15T13:00:55.264192",
     "exception": false,
     "start_time": "2021-10-15T13:00:55.208365",
     "status": "completed"
    },
    "tags": []
   },
   "outputs": [],
   "source": [
    "anime_df = pd.merge(anime_desc_df,anime_info_df[['MAL_ID','Type','Popularity','Members','Favorites']],on='MAL_ID')\n",
    "anime_df.head(10)"
   ]
  },
  {
   "cell_type": "code",
   "execution_count": null,
   "id": "6ba6611d",
   "metadata": {
    "execution": {
     "iopub.execute_input": "2021-10-15T13:00:55.313764Z",
     "iopub.status.busy": "2021-10-15T13:00:55.312968Z",
     "iopub.status.idle": "2021-10-15T13:00:55.337013Z",
     "shell.execute_reply": "2021-10-15T13:00:55.336574Z",
     "shell.execute_reply.started": "2021-10-15T12:47:31.75192Z"
    },
    "papermill": {
     "duration": 0.049991,
     "end_time": "2021-10-15T13:00:55.337127",
     "exception": false,
     "start_time": "2021-10-15T13:00:55.287136",
     "status": "completed"
    },
    "tags": []
   },
   "outputs": [],
   "source": [
    "anime_df.info()"
   ]
  },
  {
   "cell_type": "code",
   "execution_count": null,
   "id": "5eb0e25e",
   "metadata": {
    "execution": {
     "iopub.execute_input": "2021-10-15T13:00:55.391883Z",
     "iopub.status.busy": "2021-10-15T13:00:55.391327Z",
     "iopub.status.idle": "2021-10-15T13:00:55.412769Z",
     "shell.execute_reply": "2021-10-15T13:00:55.413234Z",
     "shell.execute_reply.started": "2021-10-15T12:47:31.779151Z"
    },
    "papermill": {
     "duration": 0.053139,
     "end_time": "2021-10-15T13:00:55.413364",
     "exception": false,
     "start_time": "2021-10-15T13:00:55.360225",
     "status": "completed"
    },
    "tags": []
   },
   "outputs": [],
   "source": [
    "anime_df[\"Score\"].describe()"
   ]
  },
  {
   "cell_type": "code",
   "execution_count": null,
   "id": "a0f35122",
   "metadata": {
    "execution": {
     "iopub.execute_input": "2021-10-15T13:00:55.466243Z",
     "iopub.status.busy": "2021-10-15T13:00:55.465451Z",
     "iopub.status.idle": "2021-10-15T13:00:55.473029Z",
     "shell.execute_reply": "2021-10-15T13:00:55.473392Z",
     "shell.execute_reply.started": "2021-10-15T12:47:31.806614Z"
    },
    "papermill": {
     "duration": 0.037151,
     "end_time": "2021-10-15T13:00:55.473509",
     "exception": false,
     "start_time": "2021-10-15T13:00:55.436358",
     "status": "completed"
    },
    "tags": []
   },
   "outputs": [],
   "source": [
    "anime_df = anime_df[(anime_df[\"Score\"] != \"Unknown\")] \n",
    "anime_df.shape"
   ]
  },
  {
   "cell_type": "markdown",
   "id": "f2caeeba",
   "metadata": {
    "papermill": {
     "duration": 0.023099,
     "end_time": "2021-10-15T13:00:55.521837",
     "exception": false,
     "start_time": "2021-10-15T13:00:55.498738",
     "status": "completed"
    },
    "tags": []
   },
   "source": [
    "## Content  Filtering"
   ]
  },
  {
   "cell_type": "code",
   "execution_count": null,
   "id": "4a87533c",
   "metadata": {
    "execution": {
     "iopub.execute_input": "2021-10-15T13:00:55.574828Z",
     "iopub.status.busy": "2021-10-15T13:00:55.574351Z",
     "iopub.status.idle": "2021-10-15T13:00:55.577793Z",
     "shell.execute_reply": "2021-10-15T13:00:55.577380Z",
     "shell.execute_reply.started": "2021-10-15T12:47:31.82278Z"
    },
    "papermill": {
     "duration": 0.031744,
     "end_time": "2021-10-15T13:00:55.577890",
     "exception": false,
     "start_time": "2021-10-15T13:00:55.546146",
     "status": "completed"
    },
    "tags": []
   },
   "outputs": [],
   "source": [
    "anime_df['sypnopsis'] = anime_df['sypnopsis'].fillna('')"
   ]
  },
  {
   "cell_type": "code",
   "execution_count": null,
   "id": "8371231b",
   "metadata": {
    "execution": {
     "iopub.execute_input": "2021-10-15T13:00:55.672095Z",
     "iopub.status.busy": "2021-10-15T13:00:55.641212Z",
     "iopub.status.idle": "2021-10-15T13:00:58.478319Z",
     "shell.execute_reply": "2021-10-15T13:00:58.477868Z",
     "shell.execute_reply.started": "2021-10-15T12:47:31.831136Z"
    },
    "papermill": {
     "duration": 2.877561,
     "end_time": "2021-10-15T13:00:58.478441",
     "exception": false,
     "start_time": "2021-10-15T13:00:55.600880",
     "status": "completed"
    },
    "tags": []
   },
   "outputs": [],
   "source": [
    "tfidf = TfidfVectorizer(analyzer='word',ngram_range=(1, 2),min_df=0, stop_words='english')\n",
    "tfidf_matrix = tfidf.fit_transform(anime_df['sypnopsis'])\n",
    "tfidf_matrix.shape"
   ]
  },
  {
   "cell_type": "code",
   "execution_count": null,
   "id": "f471a310",
   "metadata": {
    "execution": {
     "iopub.execute_input": "2021-10-15T13:00:58.531011Z",
     "iopub.status.busy": "2021-10-15T13:00:58.530065Z",
     "iopub.status.idle": "2021-10-15T13:01:00.995536Z",
     "shell.execute_reply": "2021-10-15T13:01:00.995957Z",
     "shell.execute_reply.started": "2021-10-15T12:47:34.632191Z"
    },
    "papermill": {
     "duration": 2.494039,
     "end_time": "2021-10-15T13:01:00.996106",
     "exception": false,
     "start_time": "2021-10-15T13:00:58.502067",
     "status": "completed"
    },
    "tags": []
   },
   "outputs": [],
   "source": [
    "cosine_sim = linear_kernel(tfidf_matrix, tfidf_matrix)\n",
    "cosine_sim.shape"
   ]
  },
  {
   "cell_type": "code",
   "execution_count": null,
   "id": "f39dbd58",
   "metadata": {
    "execution": {
     "iopub.execute_input": "2021-10-15T13:01:01.048466Z",
     "iopub.status.busy": "2021-10-15T13:01:01.047589Z",
     "iopub.status.idle": "2021-10-15T13:01:01.053051Z",
     "shell.execute_reply": "2021-10-15T13:01:01.053605Z",
     "shell.execute_reply.started": "2021-10-15T12:47:37.281036Z"
    },
    "papermill": {
     "duration": 0.033921,
     "end_time": "2021-10-15T13:01:01.053735",
     "exception": false,
     "start_time": "2021-10-15T13:01:01.019814",
     "status": "completed"
    },
    "tags": []
   },
   "outputs": [],
   "source": [
    "anime_df = anime_df.reset_index()\n",
    "titles = anime_df['Name']\n",
    "indices = pd.Series(anime_df.index, index=anime_df['Name'])"
   ]
  },
  {
   "cell_type": "code",
   "execution_count": null,
   "id": "e593e013",
   "metadata": {
    "execution": {
     "iopub.execute_input": "2021-10-15T13:01:01.110967Z",
     "iopub.status.busy": "2021-10-15T13:01:01.110202Z",
     "iopub.status.idle": "2021-10-15T13:01:01.112116Z",
     "shell.execute_reply": "2021-10-15T13:01:01.112784Z",
     "shell.execute_reply.started": "2021-10-15T12:47:37.291024Z"
    },
    "papermill": {
     "duration": 0.03504,
     "end_time": "2021-10-15T13:01:01.112905",
     "exception": false,
     "start_time": "2021-10-15T13:01:01.077865",
     "status": "completed"
    },
    "tags": []
   },
   "outputs": [],
   "source": [
    "def content_recommendations(title):\n",
    "    idx = indices[title]\n",
    "    sim_scores = list(enumerate(cosine_sim[idx]))\n",
    "    sim_scores = sorted(sim_scores, key=lambda x: x[1], reverse=True)\n",
    "    sim_scores = sim_scores[1:31]\n",
    "    anime_indices = [i[0] for i in sim_scores]\n",
    "    \n",
    "    anime_lst = anime_df.iloc[anime_indices][['Name', 'Members', 'Score']]\n",
    "    favorite_count = anime_lst[anime_lst['Members'].notnull()]['Members'].astype('int')\n",
    "    score_avg = anime_lst[anime_lst['Score'].notnull()]['Score'].astype('float')\n",
    "    C = score_avg.mean()\n",
    "    m = favorite_count.quantile(0.60)\n",
    "    qualified = anime_lst[(anime_lst['Members'] >= m) & (anime_lst['Members'].notnull()) & (anime_lst['Score'].notnull())]\n",
    "    qualified['Members'] = qualified['Members'].astype('int')\n",
    "    qualified['Score'] = qualified['Score'].astype('float')\n",
    "    def weighted_rating(x):\n",
    "        v = x['Members']\n",
    "        R = x['Score']\n",
    "        return (v/(v+m) * R) + (m/(m+v) * C)   \n",
    "    \n",
    "    qualified['wr'] = qualified.apply(weighted_rating, axis=1)\n",
    "    qualified = qualified.sort_values('wr', ascending=False).head(10)\n",
    "    \n",
    "    return qualified"
   ]
  },
  {
   "cell_type": "code",
   "execution_count": null,
   "id": "3de9ef60",
   "metadata": {
    "execution": {
     "iopub.execute_input": "2021-10-15T13:01:01.177681Z",
     "iopub.status.busy": "2021-10-15T13:01:01.177191Z",
     "iopub.status.idle": "2021-10-15T13:01:01.201258Z",
     "shell.execute_reply": "2021-10-15T13:01:01.200646Z",
     "shell.execute_reply.started": "2021-10-15T12:47:37.305955Z"
    },
    "papermill": {
     "duration": 0.06541,
     "end_time": "2021-10-15T13:01:01.201390",
     "exception": false,
     "start_time": "2021-10-15T13:01:01.135980",
     "status": "completed"
    },
    "tags": []
   },
   "outputs": [],
   "source": [
    "content_recommendations('Naruto').head(10)"
   ]
  },
  {
   "cell_type": "markdown",
   "id": "d602d1ef",
   "metadata": {
    "papermill": {
     "duration": 0.023416,
     "end_time": "2021-10-15T13:01:01.249473",
     "exception": false,
     "start_time": "2021-10-15T13:01:01.226057",
     "status": "completed"
    },
    "tags": []
   },
   "source": [
    "## Collaborative Filtering"
   ]
  },
  {
   "cell_type": "code",
   "execution_count": null,
   "id": "a545658b",
   "metadata": {
    "execution": {
     "iopub.execute_input": "2021-10-15T13:01:01.305189Z",
     "iopub.status.busy": "2021-10-15T13:01:01.304562Z",
     "iopub.status.idle": "2021-10-15T13:01:01.307212Z",
     "shell.execute_reply": "2021-10-15T13:01:01.307601Z",
     "shell.execute_reply.started": "2021-10-15T12:47:37.352526Z"
    },
    "papermill": {
     "duration": 0.034667,
     "end_time": "2021-10-15T13:01:01.307723",
     "exception": false,
     "start_time": "2021-10-15T13:01:01.273056",
     "status": "completed"
    },
    "scrolled": true,
    "tags": []
   },
   "outputs": [],
   "source": [
    "rating_df.head(10)"
   ]
  },
  {
   "cell_type": "code",
   "execution_count": null,
   "id": "ae129062",
   "metadata": {
    "execution": {
     "iopub.execute_input": "2021-10-15T13:01:01.360968Z",
     "iopub.status.busy": "2021-10-15T13:01:01.360022Z",
     "iopub.status.idle": "2021-10-15T13:01:01.418237Z",
     "shell.execute_reply": "2021-10-15T13:01:01.418635Z",
     "shell.execute_reply.started": "2021-10-15T12:47:37.365612Z"
    },
    "papermill": {
     "duration": 0.086691,
     "end_time": "2021-10-15T13:01:01.418753",
     "exception": false,
     "start_time": "2021-10-15T13:01:01.332062",
     "status": "completed"
    },
    "tags": []
   },
   "outputs": [],
   "source": [
    "rating_df['rating'].value_counts()"
   ]
  },
  {
   "cell_type": "code",
   "execution_count": null,
   "id": "6f99cebf",
   "metadata": {
    "execution": {
     "iopub.execute_input": "2021-10-15T13:01:01.480591Z",
     "iopub.status.busy": "2021-10-15T13:01:01.479753Z",
     "iopub.status.idle": "2021-10-15T13:01:01.637683Z",
     "shell.execute_reply": "2021-10-15T13:01:01.637223Z",
     "shell.execute_reply.started": "2021-10-15T12:47:37.427082Z"
    },
    "papermill": {
     "duration": 0.194565,
     "end_time": "2021-10-15T13:01:01.637808",
     "exception": false,
     "start_time": "2021-10-15T13:01:01.443243",
     "status": "completed"
    },
    "tags": []
   },
   "outputs": [],
   "source": [
    "# rating_df['rating'] = rating_df['rating'].apply(lambda x: 1 if x < 0 else x)\n",
    "rating_df = rating_df[(rating_df[\"rating\"] != -1)] "
   ]
  },
  {
   "cell_type": "code",
   "execution_count": null,
   "id": "aacb0cd4",
   "metadata": {
    "execution": {
     "iopub.execute_input": "2021-10-15T13:01:01.695738Z",
     "iopub.status.busy": "2021-10-15T13:01:01.695122Z",
     "iopub.status.idle": "2021-10-15T13:01:01.697918Z",
     "shell.execute_reply": "2021-10-15T13:01:01.698331Z",
     "shell.execute_reply.started": "2021-10-15T12:47:37.596418Z"
    },
    "papermill": {
     "duration": 0.035462,
     "end_time": "2021-10-15T13:01:01.698450",
     "exception": false,
     "start_time": "2021-10-15T13:01:01.662988",
     "status": "completed"
    },
    "tags": []
   },
   "outputs": [],
   "source": [
    "rating_df.head(5)"
   ]
  },
  {
   "cell_type": "code",
   "execution_count": null,
   "id": "06f40345",
   "metadata": {
    "execution": {
     "iopub.execute_input": "2021-10-15T13:01:01.782052Z",
     "iopub.status.busy": "2021-10-15T13:01:01.756042Z",
     "iopub.status.idle": "2021-10-15T13:01:09.547980Z",
     "shell.execute_reply": "2021-10-15T13:01:09.547055Z",
     "shell.execute_reply.started": "2021-10-15T12:47:37.610401Z"
    },
    "papermill": {
     "duration": 7.825044,
     "end_time": "2021-10-15T13:01:09.548126",
     "exception": false,
     "start_time": "2021-10-15T13:01:01.723082",
     "status": "completed"
    },
    "tags": []
   },
   "outputs": [],
   "source": [
    "reader = Reader()\n",
    "rating_data = Dataset.load_from_df(rating_df, reader)\n",
    "svd = SVD()"
   ]
  },
  {
   "cell_type": "code",
   "execution_count": null,
   "id": "c2703a9c",
   "metadata": {
    "execution": {
     "iopub.execute_input": "2021-10-15T13:01:09.661683Z",
     "iopub.status.busy": "2021-10-15T13:01:09.625876Z",
     "iopub.status.idle": "2021-10-15T13:01:15.386151Z",
     "shell.execute_reply": "2021-10-15T13:01:15.385673Z",
     "shell.execute_reply.started": "2021-10-15T12:47:45.278732Z"
    },
    "papermill": {
     "duration": 5.812943,
     "end_time": "2021-10-15T13:01:15.386279",
     "exception": false,
     "start_time": "2021-10-15T13:01:09.573336",
     "status": "completed"
    },
    "tags": []
   },
   "outputs": [],
   "source": [
    "trainset = rating_data.build_full_trainset()"
   ]
  },
  {
   "cell_type": "code",
   "execution_count": null,
   "id": "10e45b29",
   "metadata": {
    "execution": {
     "iopub.execute_input": "2021-10-15T13:01:15.479282Z",
     "iopub.status.busy": "2021-10-15T13:01:15.473954Z",
     "iopub.status.idle": "2021-10-15T13:10:47.214863Z",
     "shell.execute_reply": "2021-10-15T13:10:47.215340Z",
     "shell.execute_reply.started": "2021-10-15T12:47:50.642726Z"
    },
    "papermill": {
     "duration": 571.804234,
     "end_time": "2021-10-15T13:10:47.215502",
     "exception": false,
     "start_time": "2021-10-15T13:01:15.411268",
     "status": "completed"
    },
    "scrolled": true,
    "tags": []
   },
   "outputs": [],
   "source": [
    "svd.fit(trainset)"
   ]
  },
  {
   "cell_type": "code",
   "execution_count": null,
   "id": "d9a86ee7",
   "metadata": {
    "execution": {
     "iopub.execute_input": "2021-10-15T13:10:47.272079Z",
     "iopub.status.busy": "2021-10-15T13:10:47.271388Z",
     "iopub.status.idle": "2021-10-15T13:10:47.274143Z",
     "shell.execute_reply": "2021-10-15T13:10:47.274570Z",
     "shell.execute_reply.started": "2021-10-15T12:57:19.149108Z"
    },
    "papermill": {
     "duration": 0.033855,
     "end_time": "2021-10-15T13:10:47.274722",
     "exception": false,
     "start_time": "2021-10-15T13:10:47.240867",
     "status": "completed"
    },
    "tags": []
   },
   "outputs": [],
   "source": [
    "svd.predict(1, 356, 5)"
   ]
  },
  {
   "cell_type": "markdown",
   "id": "d06a3f64",
   "metadata": {
    "papermill": {
     "duration": 0.025491,
     "end_time": "2021-10-15T13:10:47.328728",
     "exception": false,
     "start_time": "2021-10-15T13:10:47.303237",
     "status": "completed"
    },
    "tags": []
   },
   "source": [
    "## Hybrid Filtering"
   ]
  },
  {
   "cell_type": "code",
   "execution_count": null,
   "id": "13167c86",
   "metadata": {
    "execution": {
     "iopub.execute_input": "2021-10-15T13:10:47.395403Z",
     "iopub.status.busy": "2021-10-15T13:10:47.394536Z",
     "iopub.status.idle": "2021-10-15T13:10:47.403649Z",
     "shell.execute_reply": "2021-10-15T13:10:47.404078Z",
     "shell.execute_reply.started": "2021-10-15T12:57:19.158024Z"
    },
    "papermill": {
     "duration": 0.049134,
     "end_time": "2021-10-15T13:10:47.404205",
     "exception": false,
     "start_time": "2021-10-15T13:10:47.355071",
     "status": "completed"
    },
    "tags": []
   },
   "outputs": [],
   "source": [
    "id_map = anime_df[['MAL_ID']]\n",
    "id_map['id'] = list(range(1,anime_df.shape[0]+1,1))\n",
    "id_map = id_map.merge(anime_df[['MAL_ID', 'Name']], on='MAL_ID').set_index('Name')"
   ]
  },
  {
   "cell_type": "code",
   "execution_count": null,
   "id": "a55f8688",
   "metadata": {
    "execution": {
     "iopub.execute_input": "2021-10-15T13:10:47.458401Z",
     "iopub.status.busy": "2021-10-15T13:10:47.457619Z",
     "iopub.status.idle": "2021-10-15T13:10:47.462584Z",
     "shell.execute_reply": "2021-10-15T13:10:47.462114Z",
     "shell.execute_reply.started": "2021-10-15T12:57:19.183564Z"
    },
    "papermill": {
     "duration": 0.033354,
     "end_time": "2021-10-15T13:10:47.462706",
     "exception": false,
     "start_time": "2021-10-15T13:10:47.429352",
     "status": "completed"
    },
    "tags": []
   },
   "outputs": [],
   "source": [
    "indices_map = id_map.set_index('id')"
   ]
  },
  {
   "cell_type": "code",
   "execution_count": null,
   "id": "053ae821",
   "metadata": {
    "execution": {
     "iopub.execute_input": "2021-10-15T13:10:47.525905Z",
     "iopub.status.busy": "2021-10-15T13:10:47.525182Z",
     "iopub.status.idle": "2021-10-15T13:10:47.527144Z",
     "shell.execute_reply": "2021-10-15T13:10:47.527542Z",
     "shell.execute_reply.started": "2021-10-15T12:57:19.189919Z"
    },
    "papermill": {
     "duration": 0.039144,
     "end_time": "2021-10-15T13:10:47.527658",
     "exception": false,
     "start_time": "2021-10-15T13:10:47.488514",
     "status": "completed"
    },
    "tags": []
   },
   "outputs": [],
   "source": [
    "def hybrid_recommendations(user_id,title):\n",
    "    idx = indices[title]\n",
    "    sim_scores = list(enumerate(cosine_sim[idx]))\n",
    "    sim_scores = sorted(sim_scores, key=lambda x: x[1], reverse=True)\n",
    "    sim_scores = sim_scores[1:31]    \n",
    "    anime_indices = [i[0] for i in sim_scores]\n",
    "            \n",
    "    anime_lst = anime_df.iloc[anime_indices][['MAL_ID','Name', 'Members', 'Score','Genres']]\n",
    "    favorite_count = anime_lst[anime_lst['Members'].notnull()]['Members'].astype('int')\n",
    "    score_avg = anime_lst[anime_lst['Score'].notnull()]['Score'].astype('float')\n",
    "    C = score_avg.mean()\n",
    "    m = favorite_count.quantile(0.60)\n",
    "    qualified = anime_lst[(anime_lst['Members'] >= m) & (anime_lst['Members'].notnull()) & (anime_lst['Score'].notnull())]    \n",
    "    qualified['Members'] = qualified['Members'].astype('int')\n",
    "    qualified['Score'] = qualified['Score'].astype('float')\n",
    "    def weighted_rating(x):\n",
    "        v = x['Members']\n",
    "        R = x['Score']\n",
    "        return (v/(v+m) * R) + (m/(m+v) * C)   \n",
    "    \n",
    "    qualified['wr'] = qualified.apply(weighted_rating, axis=1)\n",
    "    qualified = qualified.sort_values('wr', ascending=False).head(30)    \n",
    "    \n",
    "    qualified[['id']] = list(range(1,qualified.shape[0]+1,1))  \n",
    "    qualified['est'] = qualified['id'].apply(lambda x: svd.predict(user_id, indices_map.loc[x]['MAL_ID']).est)\n",
    "    qualified = qualified.sort_values('est', ascending=False)\n",
    "    result = qualified[['MAL_ID','Name','Genres','Score']]\n",
    "    return result.head(10)    "
   ]
  },
  {
   "cell_type": "code",
   "execution_count": null,
   "id": "c853a57c",
   "metadata": {
    "execution": {
     "iopub.execute_input": "2021-10-15T13:10:47.596903Z",
     "iopub.status.busy": "2021-10-15T13:10:47.596123Z",
     "iopub.status.idle": "2021-10-15T13:10:47.615150Z",
     "shell.execute_reply": "2021-10-15T13:10:47.615561Z",
     "shell.execute_reply.started": "2021-10-15T12:57:19.245988Z"
    },
    "papermill": {
     "duration": 0.061857,
     "end_time": "2021-10-15T13:10:47.615702",
     "exception": false,
     "start_time": "2021-10-15T13:10:47.553845",
     "status": "completed"
    },
    "tags": []
   },
   "outputs": [],
   "source": [
    "hybrid_recommendations(8, 'Trigun')"
   ]
  }
 ],
 "metadata": {
  "kernelspec": {
   "display_name": "Python 3",
   "language": "python",
   "name": "python3"
  },
  "language_info": {
   "codemirror_mode": {
    "name": "ipython",
    "version": 3
   },
   "file_extension": ".py",
   "mimetype": "text/x-python",
   "name": "python",
   "nbconvert_exporter": "python",
   "pygments_lexer": "ipython3",
   "version": "3.8.8"
  },
  "papermill": {
   "default_parameters": {},
   "duration": 614.541949,
   "end_time": "2021-10-15T13:10:50.255039",
   "environment_variables": {},
   "exception": null,
   "input_path": "__notebook__.ipynb",
   "output_path": "__notebook__.ipynb",
   "parameters": {},
   "start_time": "2021-10-15T13:00:35.713090",
   "version": "2.3.3"
  }
 },
 "nbformat": 4,
 "nbformat_minor": 5
}
